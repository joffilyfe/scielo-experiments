{
 "cells": [
  {
   "cell_type": "code",
   "execution_count": null,
   "metadata": {},
   "outputs": [],
   "source": [
    "#%load_ext lab_black"
   ]
  },
  {
   "cell_type": "markdown",
   "metadata": {},
   "source": [
    "# Analisando Artigos da coleção SciELO Brasil que não possuem DOI registrados"
   ]
  },
  {
   "cell_type": "markdown",
   "metadata": {},
   "source": [
    "Para realizar este experimento, utilizei três fontes primárias de dados, os PIDs extraídos da base MST, o site http://doi.org e o serviço http://articlemeta.scielo.org/. Foram construídos dois scripts `python` para extrair os pids do Articlemeta e para acessar o doi.org."
   ]
  },
  {
   "cell_type": "markdown",
   "metadata": {},
   "source": [
    "Para criar a análise nós vamos seguir os passos:\n",
    "1. Encontrar todos os DOI dos  artigos via ArticleMeta\n",
    "2. Acessar todos os DOI encontrados via ArticleMeta\n",
    "    1. Para os documentos que não possuem DOI no ArticleMeta produzimos um doi sintético (prefixo + PID)\n"
   ]
  },
  {
   "cell_type": "markdown",
   "metadata": {},
   "source": [
    "Os pontos a seguir indicam as situações que podemos nos deparar quando acessamos o DOI registrado no ArticleMeta ou o DOI sintético: \n",
    "\n",
    "1. *O artigo possui DOI mas no ArticleMeta não está populado.*\n",
    "2. O Artigo não possui DOI e no ArticleMeta não está populado (é preciso garantir que ele não possui DOI).\n",
    "3. O artigo não possui DOI no ArticleMeta e no site MAS possui na API do Crossref.\n",
    "4. *O artigo possui DOI no ArticleMeta mas não está registrado no crossref.*\n",
    "5. O Artigo possui DOI no ArticleMeta e está acessível no http://doi.org e no http://www.scielo.br\n",
    "\n",
    "Todos os pontos acima são importantes, contudo os pontos **1**, **4** serão considerados mais importantes nesta fase de investigação."
   ]
  },
  {
   "cell_type": "markdown",
   "metadata": {},
   "source": [
    "Para iniciar a análise foi construído um script para extrair os DOIs do Articlemeta a partir de uma lista de PIDs (scielo pid v2).\n",
    "\n",
    "Para executar o script digite `python scripts/extract_doi.py`."
   ]
  },
  {
   "cell_type": "code",
   "execution_count": 1,
   "metadata": {},
   "outputs": [],
   "source": [
    "import pandas as pd\n",
    "import numpy as np\n",
    "import matplotlib.pyplot as plt"
   ]
  },
  {
   "cell_type": "code",
   "execution_count": 2,
   "metadata": {},
   "outputs": [],
   "source": [
    "ARTICLE_META_COLUMNS = [\"pid\", \"doi\", \"found\", \"collection\", \"error\"]"
   ]
  },
  {
   "cell_type": "code",
   "execution_count": 3,
   "metadata": {},
   "outputs": [],
   "source": [
    "ARTICLE_META_DATA = pd.read_csv(\n",
    "    \"resultados/articlemeta.csv\", sep=\";\", names=ARTICLE_META_COLUMNS\n",
    ")"
   ]
  },
  {
   "cell_type": "code",
   "execution_count": 4,
   "metadata": {},
   "outputs": [
    {
     "data": {
      "text/html": [
       "<div>\n",
       "<style scoped>\n",
       "    .dataframe tbody tr th:only-of-type {\n",
       "        vertical-align: middle;\n",
       "    }\n",
       "\n",
       "    .dataframe tbody tr th {\n",
       "        vertical-align: top;\n",
       "    }\n",
       "\n",
       "    .dataframe thead th {\n",
       "        text-align: right;\n",
       "    }\n",
       "</style>\n",
       "<table border=\"1\" class=\"dataframe\">\n",
       "  <thead>\n",
       "    <tr style=\"text-align: right;\">\n",
       "      <th></th>\n",
       "      <th>pid</th>\n",
       "      <th>doi</th>\n",
       "      <th>found</th>\n",
       "      <th>collection</th>\n",
       "      <th>error</th>\n",
       "    </tr>\n",
       "  </thead>\n",
       "  <tbody>\n",
       "    <tr>\n",
       "      <th>0</th>\n",
       "      <td>S0104-66322008000100001</td>\n",
       "      <td>10.1590/S0104-66322008000100001</td>\n",
       "      <td>1</td>\n",
       "      <td>scl</td>\n",
       "      <td>NaN</td>\n",
       "    </tr>\n",
       "    <tr>\n",
       "      <th>1</th>\n",
       "      <td>S0102-311X2005000100026</td>\n",
       "      <td>10.1590/S0102-311X2005000100026</td>\n",
       "      <td>1</td>\n",
       "      <td>scl</td>\n",
       "      <td>NaN</td>\n",
       "    </tr>\n",
       "    <tr>\n",
       "      <th>2</th>\n",
       "      <td>S0102-311X2005000100027</td>\n",
       "      <td>10.1590/S0102-311X2005000100027</td>\n",
       "      <td>1</td>\n",
       "      <td>scl</td>\n",
       "      <td>NaN</td>\n",
       "    </tr>\n",
       "    <tr>\n",
       "      <th>3</th>\n",
       "      <td>S0104-66322007000400005</td>\n",
       "      <td>10.1590/S0104-66322007000400005</td>\n",
       "      <td>1</td>\n",
       "      <td>scl</td>\n",
       "      <td>NaN</td>\n",
       "    </tr>\n",
       "    <tr>\n",
       "      <th>4</th>\n",
       "      <td>S0104-66322007000400008</td>\n",
       "      <td>10.1590/S0104-66322007000400008</td>\n",
       "      <td>1</td>\n",
       "      <td>scl</td>\n",
       "      <td>NaN</td>\n",
       "    </tr>\n",
       "  </tbody>\n",
       "</table>\n",
       "</div>"
      ],
      "text/plain": [
       "                       pid                              doi  found collection  \\\n",
       "0  S0104-66322008000100001  10.1590/S0104-66322008000100001      1        scl   \n",
       "1  S0102-311X2005000100026  10.1590/S0102-311X2005000100026      1        scl   \n",
       "2  S0102-311X2005000100027  10.1590/S0102-311X2005000100027      1        scl   \n",
       "3  S0104-66322007000400005  10.1590/S0104-66322007000400005      1        scl   \n",
       "4  S0104-66322007000400008  10.1590/S0104-66322007000400008      1        scl   \n",
       "\n",
       "  error  \n",
       "0   NaN  \n",
       "1   NaN  \n",
       "2   NaN  \n",
       "3   NaN  \n",
       "4   NaN  "
      ]
     },
     "execution_count": 4,
     "metadata": {},
     "output_type": "execute_result"
    }
   ],
   "source": [
    "ARTICLE_META_DATA.head()"
   ]
  },
  {
   "cell_type": "code",
   "execution_count": 5,
   "metadata": {},
   "outputs": [],
   "source": [
    "articles_without_registered_doi = ARTICLE_META_DATA[ARTICLE_META_DATA[\"found\"] == 0]"
   ]
  },
  {
   "cell_type": "code",
   "execution_count": 6,
   "metadata": {},
   "outputs": [],
   "source": [
    "#ARTICLE_META_DATA[\"label\"] = ARTICLE_META_DATA.apply(\n",
    "#    lambda row: \"Com doi\" if row[\"found\"] == 1 else \"Sem doi\", axis=1\n",
    "#)"
   ]
  },
  {
   "cell_type": "code",
   "execution_count": 7,
   "metadata": {},
   "outputs": [
    {
     "data": {
      "text/plain": [
       "(3676, 5)"
      ]
     },
     "execution_count": 7,
     "metadata": {},
     "output_type": "execute_result"
    }
   ],
   "source": [
    "ARTICLE_META_DATA[ARTICLE_META_DATA[\"found\"] == 0].shape # Artigos sem DOI no ArticleMeta"
   ]
  },
  {
   "cell_type": "code",
   "execution_count": 8,
   "metadata": {},
   "outputs": [
    {
     "data": {
      "image/png": "[encoded data removed]",
      "text/plain": [
       "<Figure size 432x288 with 1 Axes>"
      ]
     },
     "metadata": {},
     "output_type": "display_data"
    }
   ],
   "source": [
    "labels = (\"Com DOI\", \"Sem DOI\")\n",
    "data = ARTICLE_META_DATA.groupby(\"found\", as_index=True)[\"pid\"].count()\n",
    "\n",
    "fig1, ax1 = plt.subplots()\n",
    "ax1.pie(\n",
    "    data,\n",
    "    labels=labels,\n",
    "    autopct=\"%1.1f%%\",\n",
    "    colors=(\"coral\", \"bisque\"),\n",
    "    startangle=90,\n",
    "    textprops={'fontsize': 18}\n",
    ")\n",
    "ax1.axis(\"equal\")\n",
    "\n",
    "plt.show()"
   ]
  },
  {
   "cell_type": "markdown",
   "metadata": {},
   "source": [
    "A princípio os dados extraídos do Articlemeta indicam que `1.4%` dos artigos não possuem DOI atribuídos. A consequeência desta informação é a não disponibilidade do dado para as ferramentas que utilizam do ArticleMeta como fonte."
   ]
  },
  {
   "cell_type": "code",
   "execution_count": 9,
   "metadata": {},
   "outputs": [
    {
     "data": {
      "text/html": [
       "<div>\n",
       "<style scoped>\n",
       "    .dataframe tbody tr th:only-of-type {\n",
       "        vertical-align: middle;\n",
       "    }\n",
       "\n",
       "    .dataframe tbody tr th {\n",
       "        vertical-align: top;\n",
       "    }\n",
       "\n",
       "    .dataframe thead th {\n",
       "        text-align: right;\n",
       "    }\n",
       "</style>\n",
       "<table border=\"1\" class=\"dataframe\">\n",
       "  <thead>\n",
       "    <tr style=\"text-align: right;\">\n",
       "      <th></th>\n",
       "      <th>pid</th>\n",
       "      <th>doi</th>\n",
       "      <th>found_by_doi</th>\n",
       "      <th>found_by_generic_doi</th>\n",
       "      <th>url</th>\n",
       "      <th>error</th>\n",
       "    </tr>\n",
       "  </thead>\n",
       "  <tbody>\n",
       "    <tr>\n",
       "      <th>0</th>\n",
       "      <td>S0034-70942011000300002</td>\n",
       "      <td>10.1590/S0034-70942011000300002</td>\n",
       "      <td>1</td>\n",
       "      <td>0</td>\n",
       "      <td>http://www.scielo.br/scielo.php?script=sci_art...</td>\n",
       "      <td>NaN</td>\n",
       "    </tr>\n",
       "    <tr>\n",
       "      <th>1</th>\n",
       "      <td>S1809-48722011000300020</td>\n",
       "      <td>10.1590/S1809-48722011000300020</td>\n",
       "      <td>1</td>\n",
       "      <td>0</td>\n",
       "      <td>http://www.scielo.br/scielo.php?script=sci_art...</td>\n",
       "      <td>NaN</td>\n",
       "    </tr>\n",
       "    <tr>\n",
       "      <th>2</th>\n",
       "      <td>S0100-879X2007001000010</td>\n",
       "      <td>10.1590/S0100-879X2006005000161</td>\n",
       "      <td>1</td>\n",
       "      <td>0</td>\n",
       "      <td>http://www.scielo.br/scielo.php?script=sci_art...</td>\n",
       "      <td>NaN</td>\n",
       "    </tr>\n",
       "    <tr>\n",
       "      <th>3</th>\n",
       "      <td>S0074-02761995000500001</td>\n",
       "      <td>10.1590/S0074-02761995000500001</td>\n",
       "      <td>1</td>\n",
       "      <td>0</td>\n",
       "      <td>http://www.scielo.br/scielo.php?script=sci_art...</td>\n",
       "      <td>NaN</td>\n",
       "    </tr>\n",
       "    <tr>\n",
       "      <th>4</th>\n",
       "      <td>S0100-879X2009001000017</td>\n",
       "      <td>10.1590/S0100-879X2009005000017</td>\n",
       "      <td>1</td>\n",
       "      <td>0</td>\n",
       "      <td>http://www.scielo.br/scielo.php?script=sci_art...</td>\n",
       "      <td>NaN</td>\n",
       "    </tr>\n",
       "  </tbody>\n",
       "</table>\n",
       "</div>"
      ],
      "text/plain": [
       "                       pid                              doi  found_by_doi  \\\n",
       "0  S0034-70942011000300002  10.1590/S0034-70942011000300002             1   \n",
       "1  S1809-48722011000300020  10.1590/S1809-48722011000300020             1   \n",
       "2  S0100-879X2007001000010  10.1590/S0100-879X2006005000161             1   \n",
       "3  S0074-02761995000500001  10.1590/S0074-02761995000500001             1   \n",
       "4  S0100-879X2009001000017  10.1590/S0100-879X2009005000017             1   \n",
       "\n",
       "   found_by_generic_doi                                                url  \\\n",
       "0                     0  http://www.scielo.br/scielo.php?script=sci_art...   \n",
       "1                     0  http://www.scielo.br/scielo.php?script=sci_art...   \n",
       "2                     0  http://www.scielo.br/scielo.php?script=sci_art...   \n",
       "3                     0  http://www.scielo.br/scielo.php?script=sci_art...   \n",
       "4                     0  http://www.scielo.br/scielo.php?script=sci_art...   \n",
       "\n",
       "  error  \n",
       "0   NaN  \n",
       "1   NaN  \n",
       "2   NaN  \n",
       "3   NaN  \n",
       "4   NaN  "
      ]
     },
     "execution_count": 9,
     "metadata": {},
     "output_type": "execute_result"
    }
   ],
   "source": [
    "doi_df = pd.read_csv(\"resultados/doi-part.csv\", delimiter=\";\", names=[\"pid\", \"doi\", \"found_by_doi\", \"found_by_generic_doi\", \"url\", \"error\"])\n",
    "doi_df.head()"
   ]
  },
  {
   "cell_type": "code",
   "execution_count": 10,
   "metadata": {},
   "outputs": [
    {
     "data": {
      "text/plain": [
       "(1075, 6)"
      ]
     },
     "execution_count": 10,
     "metadata": {},
     "output_type": "execute_result"
    }
   ],
   "source": [
    "# Artigos que não possuem DOI no ArticleMeta mas\n",
    "# que conseguimos confirmar o seu prefixo/PID no http://doi.org\n",
    "doi_df[doi_df[\"found_by_generic_doi\"]==1].shape "
   ]
  },
  {
   "cell_type": "code",
   "execution_count": 11,
   "metadata": {},
   "outputs": [
    {
     "data": {
      "text/html": [
       "<div>\n",
       "<style scoped>\n",
       "    .dataframe tbody tr th:only-of-type {\n",
       "        vertical-align: middle;\n",
       "    }\n",
       "\n",
       "    .dataframe tbody tr th {\n",
       "        vertical-align: top;\n",
       "    }\n",
       "\n",
       "    .dataframe thead th {\n",
       "        text-align: right;\n",
       "    }\n",
       "</style>\n",
       "<table border=\"1\" class=\"dataframe\">\n",
       "  <thead>\n",
       "    <tr style=\"text-align: right;\">\n",
       "      <th></th>\n",
       "      <th>pid</th>\n",
       "      <th>doi</th>\n",
       "      <th>found_by_doi</th>\n",
       "      <th>found_by_generic_doi</th>\n",
       "      <th>url</th>\n",
       "      <th>error</th>\n",
       "    </tr>\n",
       "  </thead>\n",
       "  <tbody>\n",
       "    <tr>\n",
       "      <th>14</th>\n",
       "      <td>S1413-73722013000200017</td>\n",
       "      <td>10.1590/S1413-73722013000200017</td>\n",
       "      <td>0</td>\n",
       "      <td>1</td>\n",
       "      <td>http://www.scielo.br/scielo.php?script=sci_art...</td>\n",
       "      <td>NaN</td>\n",
       "    </tr>\n",
       "    <tr>\n",
       "      <th>95</th>\n",
       "      <td>S1413-73722011000100004</td>\n",
       "      <td>10.1590/S1413-73722011000100004</td>\n",
       "      <td>0</td>\n",
       "      <td>1</td>\n",
       "      <td>http://www.scielo.br/scielo.php?script=sci_art...</td>\n",
       "      <td>NaN</td>\n",
       "    </tr>\n",
       "    <tr>\n",
       "      <th>124</th>\n",
       "      <td>S1413-73722011000100003</td>\n",
       "      <td>10.1590/S1413-73722011000100003</td>\n",
       "      <td>0</td>\n",
       "      <td>1</td>\n",
       "      <td>http://www.scielo.br/scielo.php?script=sci_art...</td>\n",
       "      <td>NaN</td>\n",
       "    </tr>\n",
       "    <tr>\n",
       "      <th>133</th>\n",
       "      <td>S1413-73722011000100005</td>\n",
       "      <td>10.1590/S1413-73722011000100005</td>\n",
       "      <td>0</td>\n",
       "      <td>1</td>\n",
       "      <td>http://www.scielo.br/scielo.php?script=sci_art...</td>\n",
       "      <td>NaN</td>\n",
       "    </tr>\n",
       "    <tr>\n",
       "      <th>154</th>\n",
       "      <td>S1413-73722011000100006</td>\n",
       "      <td>10.1590/S1413-73722011000100006</td>\n",
       "      <td>0</td>\n",
       "      <td>1</td>\n",
       "      <td>http://www.scielo.br/scielo.php?script=sci_art...</td>\n",
       "      <td>NaN</td>\n",
       "    </tr>\n",
       "  </tbody>\n",
       "</table>\n",
       "</div>"
      ],
      "text/plain": [
       "                         pid                              doi  found_by_doi  \\\n",
       "14   S1413-73722013000200017  10.1590/S1413-73722013000200017             0   \n",
       "95   S1413-73722011000100004  10.1590/S1413-73722011000100004             0   \n",
       "124  S1413-73722011000100003  10.1590/S1413-73722011000100003             0   \n",
       "133  S1413-73722011000100005  10.1590/S1413-73722011000100005             0   \n",
       "154  S1413-73722011000100006  10.1590/S1413-73722011000100006             0   \n",
       "\n",
       "     found_by_generic_doi                                                url  \\\n",
       "14                      1  http://www.scielo.br/scielo.php?script=sci_art...   \n",
       "95                      1  http://www.scielo.br/scielo.php?script=sci_art...   \n",
       "124                     1  http://www.scielo.br/scielo.php?script=sci_art...   \n",
       "133                     1  http://www.scielo.br/scielo.php?script=sci_art...   \n",
       "154                     1  http://www.scielo.br/scielo.php?script=sci_art...   \n",
       "\n",
       "    error  \n",
       "14    NaN  \n",
       "95    NaN  \n",
       "124   NaN  \n",
       "133   NaN  \n",
       "154   NaN  "
      ]
     },
     "execution_count": 11,
     "metadata": {},
     "output_type": "execute_result"
    }
   ],
   "source": [
    "doi_df[doi_df[\"found_by_generic_doi\"]==1].head()"
   ]
  },
  {
   "cell_type": "code",
   "execution_count": 12,
   "metadata": {},
   "outputs": [
    {
     "data": {
      "text/html": [
       "<div>\n",
       "<style scoped>\n",
       "    .dataframe tbody tr th:only-of-type {\n",
       "        vertical-align: middle;\n",
       "    }\n",
       "\n",
       "    .dataframe tbody tr th {\n",
       "        vertical-align: top;\n",
       "    }\n",
       "\n",
       "    .dataframe thead th {\n",
       "        text-align: right;\n",
       "    }\n",
       "</style>\n",
       "<table border=\"1\" class=\"dataframe\">\n",
       "  <thead>\n",
       "    <tr style=\"text-align: right;\">\n",
       "      <th></th>\n",
       "      <th>pid</th>\n",
       "      <th>doi</th>\n",
       "      <th>found</th>\n",
       "      <th>collection</th>\n",
       "      <th>error</th>\n",
       "    </tr>\n",
       "  </thead>\n",
       "  <tbody>\n",
       "    <tr>\n",
       "      <th>56408</th>\n",
       "      <td>S1413-73722013000200017</td>\n",
       "      <td>NaN</td>\n",
       "      <td>0</td>\n",
       "      <td>scl</td>\n",
       "      <td>'doi'</td>\n",
       "    </tr>\n",
       "  </tbody>\n",
       "</table>\n",
       "</div>"
      ],
      "text/plain": [
       "                           pid  doi  found collection  error\n",
       "56408  S1413-73722013000200017  NaN      0        scl  'doi'"
      ]
     },
     "execution_count": 12,
     "metadata": {},
     "output_type": "execute_result"
    }
   ],
   "source": [
    "# Exemplo de documento sem DOI no ArticleMeta\n",
    "ARTICLE_META_DATA[ARTICLE_META_DATA[\"pid\"] == \"S1413-73722013000200017\"]"
   ]
  },
  {
   "cell_type": "code",
   "execution_count": null,
   "metadata": {},
   "outputs": [],
   "source": []
  }
 ],
 "metadata": {
  "celltoolbar": "Raw Cell Format",
  "kernelspec": {
   "display_name": "Python 3",
   "language": "python",
   "name": "python3"
  },
  "language_info": {
   "codemirror_mode": {
    "name": "ipython",
    "version": 3
   },
   "file_extension": ".py",
   "mimetype": "text/x-python",
   "name": "python",
   "nbconvert_exporter": "python",
   "pygments_lexer": "ipython3",
   "version": "3.7.6"
  }
 },
 "nbformat": 4,
 "nbformat_minor": 4
}
